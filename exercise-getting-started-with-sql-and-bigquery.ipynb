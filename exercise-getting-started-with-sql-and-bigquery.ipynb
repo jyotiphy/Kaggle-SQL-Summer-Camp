{
 "cells": [
  {
   "cell_type": "markdown",
   "metadata": {},
   "source": [
    "**[SQL Micro-Course Home Page](https://www.kaggle.com/learn/intro-to-sql)**\n",
    "\n",
    "---\n"
   ]
  },
  {
   "cell_type": "markdown",
   "metadata": {},
   "source": [
    "# Introduction\n",
    "\n",
    "The first test of your new data exploration skills uses data describing crime in the city of Chicago.\n",
    "\n",
    "Before you get started, run the following cell. It sets up the automated feedback system to review your answers."
   ]
  },
  {
   "cell_type": "code",
   "execution_count": 1,
   "metadata": {},
   "outputs": [
    {
     "name": "stdout",
     "output_type": "stream",
     "text": [
      "Using Kaggle's public dataset BigQuery integration.\n",
      "Setup Complete\n"
     ]
    }
   ],
   "source": [
    "# Set up feedack system\n",
    "from learntools.core import binder\n",
    "binder.bind(globals())\n",
    "from learntools.sql.ex1 import *\n",
    "print(\"Setup Complete\")"
   ]
  },
  {
   "cell_type": "markdown",
   "metadata": {},
   "source": [
    "Use the next code cell to fetch the dataset."
   ]
  },
  {
   "cell_type": "code",
   "execution_count": 2,
   "metadata": {},
   "outputs": [
    {
     "name": "stdout",
     "output_type": "stream",
     "text": [
      "Using Kaggle's public dataset BigQuery integration.\n"
     ]
    }
   ],
   "source": [
    "from google.cloud import bigquery\n",
    "\n",
    "# Create a \"Client\" object\n",
    "client = bigquery.Client()\n",
    "\n",
    "# Construct a reference to the \"chicago_crime\" dataset\n",
    "dataset_ref = client.dataset(\"chicago_crime\", project=\"bigquery-public-data\")\n",
    "\n",
    "# API request - fetch the dataset\n",
    "dataset = client.get_dataset(dataset_ref)"
   ]
  },
  {
   "cell_type": "markdown",
   "metadata": {},
   "source": [
    "# Exercises\n",
    "\n",
    "### 1) Count tables in the dataset\n",
    "\n",
    "How many tables are in the Chicago Crime dataset?"
   ]
  },
  {
   "cell_type": "code",
   "execution_count": 3,
   "metadata": {},
   "outputs": [
    {
     "name": "stdout",
     "output_type": "stream",
     "text": [
      "crime\n",
      "1\n",
      "1\n"
     ]
    }
   ],
   "source": [
    "# Write the code you need here to figure out the answer\n",
    "# List all the tables in the \"hacker_news\" dataset\n",
    "tables = list(client.list_tables(dataset))\n",
    "\n",
    "# Print names of all tables in the dataset \n",
    "for table in tables:  \n",
    "    count = 0\n",
    "    print(table.table_id)\n",
    "    count = count+1\n",
    "    \n",
    "    \n",
    "print(count)   \n",
    "print(len(tables))"
   ]
  },
  {
   "cell_type": "code",
   "execution_count": 4,
   "metadata": {},
   "outputs": [
    {
     "data": {
      "application/javascript": [
       "parent.postMessage({\"jupyterEvent\": \"custom.exercise_interaction\", \"data\": {\"outcomeType\": 1, \"valueTowardsCompletion\": 0.3333333333333333, \"interactionType\": 1, \"questionType\": 1, \"learnTutorialId\": 169, \"questionId\": \"1_CountTables\", \"learnToolsVersion\": \"0.3.2\", \"failureMessage\": \"\", \"exceptionClass\": \"\", \"trace\": \"\"}}, \"*\")"
      ],
      "text/plain": [
       "<IPython.core.display.Javascript object>"
      ]
     },
     "metadata": {},
     "output_type": "display_data"
    },
    {
     "data": {
      "text/plain": [
       "None"
      ]
     },
     "metadata": {},
     "output_type": "display_data"
    }
   ],
   "source": [
    "num_tables = count  # Store the answer as num_tables and then run this cell\n",
    "\n",
    "q_1.check()"
   ]
  },
  {
   "cell_type": "markdown",
   "metadata": {},
   "source": [
    "For a hint or the solution, uncomment the appropriate line below."
   ]
  },
  {
   "cell_type": "code",
   "execution_count": 5,
   "metadata": {},
   "outputs": [],
   "source": [
    "#q_1.hint()\n",
    "#q_1.solution()"
   ]
  },
  {
   "cell_type": "markdown",
   "metadata": {},
   "source": [
    "### 2) Explore the table schema\n",
    "\n",
    "How many columns in the `crime` table have `TIMESTAMP` data?"
   ]
  },
  {
   "cell_type": "code",
   "execution_count": 6,
   "metadata": {},
   "outputs": [
    {
     "data": {
      "text/plain": [
       "2"
      ]
     },
     "execution_count": 6,
     "metadata": {},
     "output_type": "execute_result"
    }
   ],
   "source": [
    "# Write the code to figure out the answer\n",
    "# Construct a reference to the \"full\" table\n",
    "table_ref = dataset_ref.table(\"crime\")\n",
    "\n",
    "# API request - fetch the table\n",
    "table = client.get_table(table_ref)\n",
    "\n",
    "\n",
    "table.schema\n",
    "sum(table.field_type == \"TIMESTAMP\" for table in table.schema)"
   ]
  },
  {
   "cell_type": "code",
   "execution_count": 7,
   "metadata": {},
   "outputs": [
    {
     "data": {
      "application/javascript": [
       "parent.postMessage({\"jupyterEvent\": \"custom.exercise_interaction\", \"data\": {\"outcomeType\": 1, \"valueTowardsCompletion\": 0.3333333333333333, \"interactionType\": 1, \"questionType\": 1, \"learnTutorialId\": 169, \"questionId\": \"2_CountTimestampFields\", \"learnToolsVersion\": \"0.3.2\", \"failureMessage\": \"\", \"exceptionClass\": \"\", \"trace\": \"\"}}, \"*\")"
      ],
      "text/plain": [
       "<IPython.core.display.Javascript object>"
      ]
     },
     "metadata": {},
     "output_type": "display_data"
    },
    {
     "data": {
      "text/plain": [
       "None"
      ]
     },
     "metadata": {},
     "output_type": "display_data"
    }
   ],
   "source": [
    "num_timestamp_fields = 2 # Put your answer here\n",
    "\n",
    "q_2.check()"
   ]
  },
  {
   "cell_type": "markdown",
   "metadata": {},
   "source": [
    "For a hint or the solution, uncomment the appropriate line below."
   ]
  },
  {
   "cell_type": "code",
   "execution_count": 8,
   "metadata": {},
   "outputs": [],
   "source": [
    "#q_2.hint()\n",
    "#q_2.solution()"
   ]
  },
  {
   "cell_type": "markdown",
   "metadata": {},
   "source": [
    "### 3) Create a crime map\n",
    "\n",
    "If you wanted to create a map with a dot at the location of each crime, what are the names of the two fields you likely need to pull out of the `crime` table to plot the crimes on a map?"
   ]
  },
  {
   "cell_type": "code",
   "execution_count": 9,
   "metadata": {},
   "outputs": [
    {
     "data": {
      "text/html": [
       "<div>\n",
       "<style scoped>\n",
       "    .dataframe tbody tr th:only-of-type {\n",
       "        vertical-align: middle;\n",
       "    }\n",
       "\n",
       "    .dataframe tbody tr th {\n",
       "        vertical-align: top;\n",
       "    }\n",
       "\n",
       "    .dataframe thead th {\n",
       "        text-align: right;\n",
       "    }\n",
       "</style>\n",
       "<table border=\"1\" class=\"dataframe\">\n",
       "  <thead>\n",
       "    <tr style=\"text-align: right;\">\n",
       "      <th></th>\n",
       "      <th>unique_key</th>\n",
       "      <th>case_number</th>\n",
       "      <th>date</th>\n",
       "      <th>block</th>\n",
       "      <th>iucr</th>\n",
       "      <th>primary_type</th>\n",
       "      <th>description</th>\n",
       "      <th>location_description</th>\n",
       "      <th>arrest</th>\n",
       "      <th>domestic</th>\n",
       "      <th>...</th>\n",
       "      <th>ward</th>\n",
       "      <th>community_area</th>\n",
       "      <th>fbi_code</th>\n",
       "      <th>x_coordinate</th>\n",
       "      <th>y_coordinate</th>\n",
       "      <th>year</th>\n",
       "      <th>updated_on</th>\n",
       "      <th>latitude</th>\n",
       "      <th>longitude</th>\n",
       "      <th>location</th>\n",
       "    </tr>\n",
       "  </thead>\n",
       "  <tbody>\n",
       "    <tr>\n",
       "      <td>0</td>\n",
       "      <td>11784276</td>\n",
       "      <td>JC380503</td>\n",
       "      <td>2019-08-05 16:20:00+00:00</td>\n",
       "      <td>063XX W 60TH ST</td>\n",
       "      <td>1345</td>\n",
       "      <td>CRIMINAL DAMAGE</td>\n",
       "      <td>TO CITY OF CHICAGO PROPERTY</td>\n",
       "      <td>STREET</td>\n",
       "      <td>False</td>\n",
       "      <td>False</td>\n",
       "      <td>...</td>\n",
       "      <td>13</td>\n",
       "      <td>64</td>\n",
       "      <td>14</td>\n",
       "      <td>1135012.0</td>\n",
       "      <td>1864072.0</td>\n",
       "      <td>2019</td>\n",
       "      <td>2019-08-12 16:17:08+00:00</td>\n",
       "      <td>41.783196</td>\n",
       "      <td>-87.780553</td>\n",
       "      <td>(41.78319638, -87.780552808)</td>\n",
       "    </tr>\n",
       "    <tr>\n",
       "      <td>1</td>\n",
       "      <td>11763208</td>\n",
       "      <td>JC355149</td>\n",
       "      <td>2019-07-19 05:00:00+00:00</td>\n",
       "      <td>061XX S PARKSIDE AVE</td>\n",
       "      <td>1345</td>\n",
       "      <td>CRIMINAL DAMAGE</td>\n",
       "      <td>TO CITY OF CHICAGO PROPERTY</td>\n",
       "      <td>STREET</td>\n",
       "      <td>False</td>\n",
       "      <td>False</td>\n",
       "      <td>...</td>\n",
       "      <td>13</td>\n",
       "      <td>64</td>\n",
       "      <td>14</td>\n",
       "      <td>1139790.0</td>\n",
       "      <td>1863213.0</td>\n",
       "      <td>2019</td>\n",
       "      <td>2019-07-26 16:10:46+00:00</td>\n",
       "      <td>41.780754</td>\n",
       "      <td>-87.763056</td>\n",
       "      <td>(41.780753505, -87.763055613)</td>\n",
       "    </tr>\n",
       "    <tr>\n",
       "      <td>2</td>\n",
       "      <td>11760182</td>\n",
       "      <td>JC351777</td>\n",
       "      <td>2019-07-16 17:57:00+00:00</td>\n",
       "      <td>010XX E 92ND ST</td>\n",
       "      <td>141A</td>\n",
       "      <td>WEAPONS VIOLATION</td>\n",
       "      <td>UNLAWFUL USE HANDGUN</td>\n",
       "      <td>SIDEWALK</td>\n",
       "      <td>False</td>\n",
       "      <td>False</td>\n",
       "      <td>...</td>\n",
       "      <td>8</td>\n",
       "      <td>47</td>\n",
       "      <td>15</td>\n",
       "      <td>1184575.0</td>\n",
       "      <td>1844185.0</td>\n",
       "      <td>2019</td>\n",
       "      <td>2019-08-05 16:10:08+00:00</td>\n",
       "      <td>41.727606</td>\n",
       "      <td>-87.599461</td>\n",
       "      <td>(41.727606396, -87.599460793)</td>\n",
       "    </tr>\n",
       "    <tr>\n",
       "      <td>3</td>\n",
       "      <td>11753840</td>\n",
       "      <td>JC344118</td>\n",
       "      <td>2019-07-11 12:15:00+00:00</td>\n",
       "      <td>103XX S LONGWOOD DR</td>\n",
       "      <td>2093</td>\n",
       "      <td>NARCOTICS</td>\n",
       "      <td>FOUND SUSPECT NARCOTICS</td>\n",
       "      <td>SIDEWALK</td>\n",
       "      <td>True</td>\n",
       "      <td>False</td>\n",
       "      <td>...</td>\n",
       "      <td>19</td>\n",
       "      <td>72</td>\n",
       "      <td>18</td>\n",
       "      <td>1165162.0</td>\n",
       "      <td>1836182.0</td>\n",
       "      <td>2019</td>\n",
       "      <td>2019-07-19 16:09:50+00:00</td>\n",
       "      <td>41.706077</td>\n",
       "      <td>-87.670799</td>\n",
       "      <td>(41.706077056, -87.670799333)</td>\n",
       "    </tr>\n",
       "    <tr>\n",
       "      <td>4</td>\n",
       "      <td>11780125</td>\n",
       "      <td>JC375496</td>\n",
       "      <td>2019-07-11 00:00:00+00:00</td>\n",
       "      <td>090XX S CLYDE AVE</td>\n",
       "      <td>1153</td>\n",
       "      <td>DECEPTIVE PRACTICE</td>\n",
       "      <td>FINANCIAL IDENTITY THEFT OVER $ 300</td>\n",
       "      <td>OTHER</td>\n",
       "      <td>False</td>\n",
       "      <td>False</td>\n",
       "      <td>...</td>\n",
       "      <td>8</td>\n",
       "      <td>48</td>\n",
       "      <td>11</td>\n",
       "      <td>1191751.0</td>\n",
       "      <td>1845421.0</td>\n",
       "      <td>2019</td>\n",
       "      <td>2019-08-07 15:58:37+00:00</td>\n",
       "      <td>41.730827</td>\n",
       "      <td>-87.573134</td>\n",
       "      <td>(41.730827207, -87.573134369)</td>\n",
       "    </tr>\n",
       "  </tbody>\n",
       "</table>\n",
       "<p>5 rows × 22 columns</p>\n",
       "</div>"
      ],
      "text/plain": [
       "   unique_key case_number                      date                 block  \\\n",
       "0    11784276    JC380503 2019-08-05 16:20:00+00:00       063XX W 60TH ST   \n",
       "1    11763208    JC355149 2019-07-19 05:00:00+00:00  061XX S PARKSIDE AVE   \n",
       "2    11760182    JC351777 2019-07-16 17:57:00+00:00       010XX E 92ND ST   \n",
       "3    11753840    JC344118 2019-07-11 12:15:00+00:00   103XX S LONGWOOD DR   \n",
       "4    11780125    JC375496 2019-07-11 00:00:00+00:00     090XX S CLYDE AVE   \n",
       "\n",
       "   iucr        primary_type                          description  \\\n",
       "0  1345     CRIMINAL DAMAGE          TO CITY OF CHICAGO PROPERTY   \n",
       "1  1345     CRIMINAL DAMAGE          TO CITY OF CHICAGO PROPERTY   \n",
       "2  141A   WEAPONS VIOLATION                 UNLAWFUL USE HANDGUN   \n",
       "3  2093           NARCOTICS              FOUND SUSPECT NARCOTICS   \n",
       "4  1153  DECEPTIVE PRACTICE  FINANCIAL IDENTITY THEFT OVER $ 300   \n",
       "\n",
       "  location_description  arrest  domestic  ...  ward  community_area  fbi_code  \\\n",
       "0               STREET   False     False  ...    13              64        14   \n",
       "1               STREET   False     False  ...    13              64        14   \n",
       "2             SIDEWALK   False     False  ...     8              47        15   \n",
       "3             SIDEWALK    True     False  ...    19              72        18   \n",
       "4                OTHER   False     False  ...     8              48        11   \n",
       "\n",
       "   x_coordinate y_coordinate  year                updated_on   latitude  \\\n",
       "0     1135012.0    1864072.0  2019 2019-08-12 16:17:08+00:00  41.783196   \n",
       "1     1139790.0    1863213.0  2019 2019-07-26 16:10:46+00:00  41.780754   \n",
       "2     1184575.0    1844185.0  2019 2019-08-05 16:10:08+00:00  41.727606   \n",
       "3     1165162.0    1836182.0  2019 2019-07-19 16:09:50+00:00  41.706077   \n",
       "4     1191751.0    1845421.0  2019 2019-08-07 15:58:37+00:00  41.730827   \n",
       "\n",
       "   longitude                       location  \n",
       "0 -87.780553   (41.78319638, -87.780552808)  \n",
       "1 -87.763056  (41.780753505, -87.763055613)  \n",
       "2 -87.599461  (41.727606396, -87.599460793)  \n",
       "3 -87.670799  (41.706077056, -87.670799333)  \n",
       "4 -87.573134  (41.730827207, -87.573134369)  \n",
       "\n",
       "[5 rows x 22 columns]"
      ]
     },
     "execution_count": 9,
     "metadata": {},
     "output_type": "execute_result"
    }
   ],
   "source": [
    "# Write the code here to explore the data so you can find the answer\n",
    "client.list_rows(table, max_results=5).to_dataframe()"
   ]
  },
  {
   "cell_type": "code",
   "execution_count": 10,
   "metadata": {},
   "outputs": [
    {
     "data": {
      "application/javascript": [
       "parent.postMessage({\"jupyterEvent\": \"custom.exercise_interaction\", \"data\": {\"outcomeType\": 1, \"valueTowardsCompletion\": 0.3333333333333333, \"interactionType\": 1, \"questionType\": 2, \"learnTutorialId\": 169, \"questionId\": \"3_IdentifyFieldsForPlotting\", \"learnToolsVersion\": \"0.3.2\", \"failureMessage\": \"\", \"exceptionClass\": \"\", \"trace\": \"\"}}, \"*\")"
      ],
      "text/plain": [
       "<IPython.core.display.Javascript object>"
      ]
     },
     "metadata": {},
     "output_type": "display_data"
    },
    {
     "data": {
      "text/plain": [
       "None"
      ]
     },
     "metadata": {},
     "output_type": "display_data"
    }
   ],
   "source": [
    "fields_for_plotting = [\"latitude\", \"longitude\"] # Put your answers here\n",
    "\n",
    "q_3.check()"
   ]
  },
  {
   "cell_type": "markdown",
   "metadata": {},
   "source": [
    "For a hint or the solution, uncomment the appropriate line below."
   ]
  },
  {
   "cell_type": "code",
   "execution_count": 11,
   "metadata": {},
   "outputs": [],
   "source": [
    "#q_3.hint()\n",
    "#q_3.solution()"
   ]
  },
  {
   "cell_type": "markdown",
   "metadata": {},
   "source": [
    "Thinking about the question above, there are a few columns that appear to have geographic data. Look at a few values (with the `list_rows()` command) to see if you can determine their relationship.  Two columns will still be hard to interpret. But it should be obvious how the `location` column relates to `latitude` and `longitude`."
   ]
  },
  {
   "cell_type": "code",
   "execution_count": 12,
   "metadata": {},
   "outputs": [],
   "source": [
    "# Scratch space for your code"
   ]
  },
  {
   "cell_type": "markdown",
   "metadata": {},
   "source": [
    "# Bunk Time\n",
    "Here as part of the SQL Summer Camp?\n",
    "\n",
    "Time to head back to the bunk. You'll get another email tomorrow to start your next camp day."
   ]
  },
  {
   "cell_type": "markdown",
   "metadata": {},
   "source": [
    "---\n",
    "**[SQL Micro-Course Home Page](https://www.kaggle.com/learn/intro-to-sql)**\n",
    "\n"
   ]
  }
 ],
 "metadata": {
  "kernelspec": {
   "display_name": "Python 3",
   "language": "python",
   "name": "python3"
  },
  "language_info": {
   "codemirror_mode": {
    "name": "ipython",
    "version": 3
   },
   "file_extension": ".py",
   "mimetype": "text/x-python",
   "name": "python",
   "nbconvert_exporter": "python",
   "pygments_lexer": "ipython3",
   "version": "3.6.6"
  }
 },
 "nbformat": 4,
 "nbformat_minor": 1
}
